{
 "cells": [
  {
   "cell_type": "markdown",
   "metadata": {},
   "source": [
    "# Predict Prices on laptops \n",
    "- Price is a target of prediction\n",
    "- Brand, Processor Speed, RAM Size, Storage Capacity, Screen Size and Weight - the features"
   ]
  },
  {
   "cell_type": "code",
   "execution_count": 33,
   "metadata": {},
   "outputs": [],
   "source": [
    "import pandas as pd\n",
    "pd.set_option('future.no_silent_downcasting', True)\n",
    "\n",
    "import seaborn as sns\n",
    "import numpy as np"
   ]
  },
  {
   "cell_type": "markdown",
   "metadata": {},
   "source": [
    "# Reading Raw data from .csv file"
   ]
  },
  {
   "cell_type": "code",
   "execution_count": 34,
   "metadata": {},
   "outputs": [
    {
     "name": "stdout",
     "output_type": "stream",
     "text": [
      "(1000, 7)\n"
     ]
    },
    {
     "data": {
      "text/html": [
       "<div>\n",
       "<style scoped>\n",
       "    .dataframe tbody tr th:only-of-type {\n",
       "        vertical-align: middle;\n",
       "    }\n",
       "\n",
       "    .dataframe tbody tr th {\n",
       "        vertical-align: top;\n",
       "    }\n",
       "\n",
       "    .dataframe thead th {\n",
       "        text-align: right;\n",
       "    }\n",
       "</style>\n",
       "<table border=\"1\" class=\"dataframe\">\n",
       "  <thead>\n",
       "    <tr style=\"text-align: right;\">\n",
       "      <th></th>\n",
       "      <th>Brand</th>\n",
       "      <th>Processor_Speed</th>\n",
       "      <th>RAM_Size</th>\n",
       "      <th>Storage_Capacity</th>\n",
       "      <th>Screen_Size</th>\n",
       "      <th>Weight</th>\n",
       "      <th>Price</th>\n",
       "    </tr>\n",
       "  </thead>\n",
       "  <tbody>\n",
       "    <tr>\n",
       "      <th>0</th>\n",
       "      <td>Asus</td>\n",
       "      <td>3.830296</td>\n",
       "      <td>16</td>\n",
       "      <td>512</td>\n",
       "      <td>11.185147</td>\n",
       "      <td>2.641094</td>\n",
       "      <td>17395.093065</td>\n",
       "    </tr>\n",
       "    <tr>\n",
       "      <th>1</th>\n",
       "      <td>Acer</td>\n",
       "      <td>2.912833</td>\n",
       "      <td>4</td>\n",
       "      <td>1000</td>\n",
       "      <td>11.311372</td>\n",
       "      <td>3.260012</td>\n",
       "      <td>31607.605919</td>\n",
       "    </tr>\n",
       "    <tr>\n",
       "      <th>2</th>\n",
       "      <td>Lenovo</td>\n",
       "      <td>3.241627</td>\n",
       "      <td>4</td>\n",
       "      <td>256</td>\n",
       "      <td>11.853023</td>\n",
       "      <td>2.029061</td>\n",
       "      <td>9291.023542</td>\n",
       "    </tr>\n",
       "    <tr>\n",
       "      <th>3</th>\n",
       "      <td>Acer</td>\n",
       "      <td>3.806248</td>\n",
       "      <td>16</td>\n",
       "      <td>512</td>\n",
       "      <td>12.280360</td>\n",
       "      <td>4.573865</td>\n",
       "      <td>17436.728334</td>\n",
       "    </tr>\n",
       "    <tr>\n",
       "      <th>4</th>\n",
       "      <td>Acer</td>\n",
       "      <td>3.268097</td>\n",
       "      <td>32</td>\n",
       "      <td>1000</td>\n",
       "      <td>14.990877</td>\n",
       "      <td>4.193472</td>\n",
       "      <td>32917.990718</td>\n",
       "    </tr>\n",
       "    <tr>\n",
       "      <th>5</th>\n",
       "      <td>HP</td>\n",
       "      <td>1.881348</td>\n",
       "      <td>16</td>\n",
       "      <td>256</td>\n",
       "      <td>11.943958</td>\n",
       "      <td>4.840268</td>\n",
       "      <td>9543.719980</td>\n",
       "    </tr>\n",
       "    <tr>\n",
       "      <th>6</th>\n",
       "      <td>Lenovo</td>\n",
       "      <td>2.940721</td>\n",
       "      <td>32</td>\n",
       "      <td>256</td>\n",
       "      <td>11.713246</td>\n",
       "      <td>4.344846</td>\n",
       "      <td>10390.137319</td>\n",
       "    </tr>\n",
       "    <tr>\n",
       "      <th>7</th>\n",
       "      <td>Lenovo</td>\n",
       "      <td>3.016788</td>\n",
       "      <td>4</td>\n",
       "      <td>256</td>\n",
       "      <td>15.588315</td>\n",
       "      <td>2.941120</td>\n",
       "      <td>9214.484506</td>\n",
       "    </tr>\n",
       "    <tr>\n",
       "      <th>8</th>\n",
       "      <td>Lenovo</td>\n",
       "      <td>2.560327</td>\n",
       "      <td>4</td>\n",
       "      <td>512</td>\n",
       "      <td>15.026332</td>\n",
       "      <td>2.743620</td>\n",
       "      <td>16372.175284</td>\n",
       "    </tr>\n",
       "    <tr>\n",
       "      <th>9</th>\n",
       "      <td>Acer</td>\n",
       "      <td>3.341111</td>\n",
       "      <td>32</td>\n",
       "      <td>512</td>\n",
       "      <td>13.611945</td>\n",
       "      <td>4.093149</td>\n",
       "      <td>18501.832733</td>\n",
       "    </tr>\n",
       "  </tbody>\n",
       "</table>\n",
       "</div>"
      ],
      "text/plain": [
       "    Brand  Processor_Speed  RAM_Size  Storage_Capacity  Screen_Size    Weight  \\\n",
       "0    Asus         3.830296        16               512    11.185147  2.641094   \n",
       "1    Acer         2.912833         4              1000    11.311372  3.260012   \n",
       "2  Lenovo         3.241627         4               256    11.853023  2.029061   \n",
       "3    Acer         3.806248        16               512    12.280360  4.573865   \n",
       "4    Acer         3.268097        32              1000    14.990877  4.193472   \n",
       "5      HP         1.881348        16               256    11.943958  4.840268   \n",
       "6  Lenovo         2.940721        32               256    11.713246  4.344846   \n",
       "7  Lenovo         3.016788         4               256    15.588315  2.941120   \n",
       "8  Lenovo         2.560327         4               512    15.026332  2.743620   \n",
       "9    Acer         3.341111        32               512    13.611945  4.093149   \n",
       "\n",
       "          Price  \n",
       "0  17395.093065  \n",
       "1  31607.605919  \n",
       "2   9291.023542  \n",
       "3  17436.728334  \n",
       "4  32917.990718  \n",
       "5   9543.719980  \n",
       "6  10390.137319  \n",
       "7   9214.484506  \n",
       "8  16372.175284  \n",
       "9  18501.832733  "
      ]
     },
     "execution_count": 34,
     "metadata": {},
     "output_type": "execute_result"
    }
   ],
   "source": [
    "raw_data = pd.read_csv('./data/Laptop_price.csv')\n",
    "print(raw_data.shape)\n",
    "raw_data.head(10)"
   ]
  },
  {
   "cell_type": "markdown",
   "metadata": {},
   "source": [
    "## Configure Pipeline"
   ]
  },
  {
   "cell_type": "code",
   "execution_count": 35,
   "metadata": {},
   "outputs": [],
   "source": [
    "from tpnn.features import Encoder\n",
    "\n",
    "pipeline = (\n",
    "    Encoder('Brand', strategy='codes') \n",
    "    >> Encoder('RAM_Size', strategy='codes') \n",
    "    >> Encoder('Storage_Capacity', strategy='codes') \n",
    "    >> Encoder(\n",
    "        'Price', \n",
    "        strategy='bins', \n",
    "        bins=[0, 12500, 25000, float('+inf')],\n",
    "    )\n",
    "    >> Encoder(\n",
    "        ['Processor_Speed', 'Screen_Size', 'Weight'], \n",
    "        strategy='quantiles', \n",
    "        quantiles=2,\n",
    "    )\n",
    ")"
   ]
  },
  {
   "cell_type": "markdown",
   "metadata": {},
   "source": [
    "## Put raw data in preprocessing pipeline"
   ]
  },
  {
   "cell_type": "code",
   "execution_count": 37,
   "metadata": {},
   "outputs": [
    {
     "data": {
      "text/plain": [
       "<Axes: >"
      ]
     },
     "execution_count": 37,
     "metadata": {},
     "output_type": "execute_result"
    },
    {
     "data": {
      "image/png": "[encoded data removed]",
      "text/plain": [
       "<Figure size 640x480 with 2 Axes>"
      ]
     },
     "metadata": {},
     "output_type": "display_data"
    }
   ],
   "source": [
    "pure_data = raw_data >> pipeline\n",
    "sns.heatmap(pure_data.corr())"
   ]
  },
  {
   "cell_type": "code",
   "execution_count": 41,
   "metadata": {},
   "outputs": [
    {
     "name": "stdout",
     "output_type": "stream",
     "text": [
      "Gain Ratio for Storage_Capacity: 1.0000\n",
      "Gain Ratio for Brand: 0.0029\n",
      "Gain Ratio for RAM_Size: 0.0023\n",
      "Gain Ratio for Processor_Speed: 0.0009\n",
      "Gain Ratio for Screen_Size: 0.0003\n",
      "Gain Ratio for Weight: 0.0003\n"
     ]
    }
   ],
   "source": [
    "from tpnn.metrics import gain_ratio\n",
    "\n",
    "ratios = [\n",
    "    (gain_ratio(pure_data, column, 'Price'), column)\n",
    "    for column in pure_data.columns \n",
    "    if column != 'Price'\n",
    "]\n",
    "\n",
    "for ratio, column in sorted(ratios, reverse=True):\n",
    "    print(f\"Gain Ratio for {column}: {ratio:.4f}\")"
   ]
  }
 ],
 "metadata": {
  "kernelspec": {
   "display_name": ".venv",
   "language": "python",
   "name": "python3"
  },
  "language_info": {
   "codemirror_mode": {
    "name": "ipython",
    "version": 3
   },
   "file_extension": ".py",
   "mimetype": "text/x-python",
   "name": "python",
   "nbconvert_exporter": "python",
   "pygments_lexer": "ipython3",
   "version": "3.12.1"
  }
 },
 "nbformat": 4,
 "nbformat_minor": 2
}
